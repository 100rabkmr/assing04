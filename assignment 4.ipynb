{
 "cells": [
  {
   "cell_type": "raw",
   "id": "5f9cc8ea",
   "metadata": {},
   "source": [
    "1. What exactly is []?\n",
    "ans). The empty list value, which is a list value that contains no items. This is similar to how '' is the empty          string value."
   ]
  },
  {
   "cell_type": "raw",
   "id": "6f731d14",
   "metadata": {},
   "source": [
    "2. In a list of values stored in a variable called spam, how would you assign the value 'hello' as the\n",
    "third value? (Assume [2, 4, 6, 8, 10] are in spam.)\n",
    "\n",
    "   \n",
    "\n",
    "\n",
    "ans)    spam[2] = 'hello' (Notice that the third value in a list is at index 2 because the first index is 0.)"
   ]
  },
  {
   "cell_type": "raw",
   "id": "d0964b06",
   "metadata": {},
   "source": [
    "Let's pretend the spam includes the list ['a','b','c','d'] for the next three queries.\n",
    "\n",
    "3. What is the value of spam[int(int('3'*2)/11)?\n",
    "                             \n",
    "                             \n",
    "                             \n",
    "ans).  'd'( Note that '3' * 2 is the string '33', which is passed to int() before being divided by 11.\n",
    "       This eventually evaluates to 3. Expressions can be used wherever values are used.)"
   ]
  },
  {
   "cell_type": "raw",
   "id": "9f31e35c",
   "metadata": {},
   "source": [
    "4. What is the value of spam[-1]?\n",
    "\n",
    "ans)      'd' (Negative indexes count from the end.)"
   ]
  },
  {
   "cell_type": "raw",
   "id": "a6e826d3",
   "metadata": {},
   "source": [
    "5. What is the value of spam[:2]?\n",
    "\n",
    "ans)         ['a', 'b']"
   ]
  },
  {
   "cell_type": "raw",
   "id": "67dd2f87",
   "metadata": {},
   "source": [
    "let's pretend bacon has the list [3.14, 'cat' 11,'cat', True] for the next three questions.?\n",
    "6. What is the value of bacon.index('cat')?\n",
    "\n",
    "ans)    1"
   ]
  },
  {
   "cell_type": "raw",
   "id": "13c686a8",
   "metadata": {},
   "source": [
    "7. How does bacon.append(99) change the look of the list value in bacon?\n",
    "\n",
    "ans)     [3.14, 'cat', 11, 'cat', True, 99]"
   ]
  },
  {
   "cell_type": "code",
   "execution_count": 7,
   "id": "fc9b55d1",
   "metadata": {},
   "outputs": [
    {
     "name": "stdout",
     "output_type": "stream",
     "text": [
      "Object `bacon` not found.\n"
     ]
    },
    {
     "data": {
      "text/plain": [
       "[3.14, 11, 'cat', True]"
      ]
     },
     "execution_count": 7,
     "metadata": {},
     "output_type": "execute_result"
    }
   ],
   "source": [
    "8. How does bacon.remove('cat') change the look of the list in bacon?\n",
    "\n",
    "ans)    [3.14, 11, 'cat', True]\n",
    "\n"
   ]
  },
  {
   "cell_type": "code",
   "execution_count": 9,
   "id": "aa176516",
   "metadata": {},
   "outputs": [
    {
     "ename": "IndentationError",
     "evalue": "unexpected indent (1117524161.py, line 3)",
     "output_type": "error",
     "traceback": [
      "\u001b[0;36m  Cell \u001b[0;32mIn[9], line 3\u001b[0;36m\u001b[0m\n\u001b[0;31m    The operator for list concatenation is +, while the operator for replication is *.\u001b[0m\n\u001b[0m    ^\u001b[0m\n\u001b[0;31mIndentationError\u001b[0m\u001b[0;31m:\u001b[0m unexpected indent\n"
     ]
    }
   ],
   "source": [
    "9. What are the list concatenation and list replication operators?\n",
    "\n",
    " ans)           The operator for list concatenation is +, while the operator for replication is *. \n",
    "                (This is the same as for strings.)\n"
   ]
  },
  {
   "cell_type": "raw",
   "id": "8e85894e",
   "metadata": {},
   "source": [
    "10. What is difference between the list methods append() and insert()?\n",
    "\n",
    "\n",
    "ans)     While append() will add values only to the end of a list, insert() can add them anywhere in the list."
   ]
  },
  {
   "cell_type": "raw",
   "id": "1a3090b6",
   "metadata": {},
   "source": [
    "11. What are the two methods for removing items from a list?\n",
    "\n",
    "\n",
    "\n",
    "ans)    The del statement and the remove() list method are two ways to remove values from a list."
   ]
  },
  {
   "cell_type": "raw",
   "id": "5333dc76",
   "metadata": {},
   "source": [
    "12. Describe how list values and string values are identical.\n",
    "\n",
    "\n",
    "\n",
    "ans)    Both lists and strings can be passed to len(), have indexes and slices, be used in for loops, \n",
    "      be concatenated or replicated, and be used with the in and not in operators."
   ]
  },
  {
   "cell_type": "raw",
   "id": "8ecb54a4",
   "metadata": {},
   "source": [
    "13. What'S the difference between tuples and lists?\n",
    "\n",
    "\n",
    "\n",
    "\n",
    "ans)      Lists are mutable; they can have values added, removed, or changed.\n",
    "          Tuples are immutable; they cannot be changed at all.\n",
    "         Also, tuples are written using parentheses, ( and ), while lists use the square brackets, [ and ].\n",
    "\n"
   ]
  },
  {
   "cell_type": "raw",
   "id": "9ab9d5c4",
   "metadata": {},
   "source": [
    "14. How do you type a tuple value that only contains the integer 42?\n",
    "\n",
    "ans)       (42,) (The trailing comma is mandatory.)"
   ]
  },
  {
   "cell_type": "raw",
   "id": "f3766622",
   "metadata": {},
   "source": [
    "15. How do you get a list value's tuple form? How do you get a tuple value's list form?\n",
    "\n",
    "ans)      The tuple() and list() functions, respectively"
   ]
  },
  {
   "cell_type": "raw",
   "id": "216b4443",
   "metadata": {},
   "source": [
    "16. Variables that &quot;contain&quot; list values are not necessarily lists themselves. Instead, what do they\n",
    "contain?\n",
    "\n",
    "ans)       They contain references to list values."
   ]
  },
  {
   "cell_type": "raw",
   "id": "eb6f3db3",
   "metadata": {},
   "source": [
    "17. How do you distinguish between copy.copy() and copy.deepcopy()?\n",
    "\n",
    "ans)         The copy.copy() function will do a shallow copy of a list,\n",
    "            while the copy.deepcopy() function will do a deep copy of a list.\n",
    "            That is, only copy.deepcopy() will duplicate any lists inside the list."
   ]
  }
 ],
 "metadata": {
  "kernelspec": {
   "display_name": "Python 3 (ipykernel)",
   "language": "python",
   "name": "python3"
  },
  "language_info": {
   "codemirror_mode": {
    "name": "ipython",
    "version": 3
   },
   "file_extension": ".py",
   "mimetype": "text/x-python",
   "name": "python",
   "nbconvert_exporter": "python",
   "pygments_lexer": "ipython3",
   "version": "3.11.7"
  }
 },
 "nbformat": 4,
 "nbformat_minor": 5
}
